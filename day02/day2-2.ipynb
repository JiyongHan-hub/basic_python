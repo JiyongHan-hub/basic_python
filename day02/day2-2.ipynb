{
 "cells": [
  {
   "cell_type": "markdown",
   "id": "678d137b",
   "metadata": {},
   "source": [
    "반복문\n",
    "\n",
    "어떤 코드 블록을 여러 번 반복 실행하는 문법\n",
    "\n",
    "1. for 반복문 (정해진 횟수)\n",
    "정해진 횟수만큼 반복할 때 사용\n",
    "리스트, 문자열, 튜플, 딕셔너리 범위(range)등 반복 가능한 객체를 순회\n",
    "\n",
    "2. while 반복문 (정해진 횟수가 없다)\n",
    "조건이 참(True)인 동안 계속 반복\n",
    "조건을 만족하지 않으면 종료\n",
    "\n"
   ]
  },
  {
   "cell_type": "code",
   "execution_count": 5,
   "id": "b5fb18d7",
   "metadata": {},
   "outputs": [
    {
     "name": "stdout",
     "output_type": "stream",
     "text": [
      "0\n",
      "1\n",
      "2\n",
      "3\n",
      "4\n"
     ]
    }
   ],
   "source": [
    "for i in range (5):\n",
    "    print(i)"
   ]
  },
  {
   "cell_type": "code",
   "execution_count": 7,
   "id": "659103de",
   "metadata": {},
   "outputs": [
    {
     "name": "stdout",
     "output_type": "stream",
     "text": [
      "1\n",
      "5\n",
      "7\n",
      "9\n",
      "10\n",
      "11\n",
      "12\n",
      "13\n",
      "14\n"
     ]
    }
   ],
   "source": [
    "sample1 = [1,5,7,9,10,11,12,13,14]\n",
    "for i in sample1:\n",
    "    print(i)"
   ]
  },
  {
   "cell_type": "code",
   "execution_count": 15,
   "id": "e334e68f",
   "metadata": {},
   "outputs": [
    {
     "name": "stdout",
     "output_type": "stream",
     "text": [
      "[10, 12, 14]\n"
     ]
    }
   ],
   "source": [
    "#이 중에서 짝수만 뽑아서 sample2에 넣으려면?\n",
    "sample1 = [1,5,7,9,10,11,12,13,14]\n",
    "sample2 = []\n",
    "for i in sample1:\n",
    "    if i % 2 == 0:\n",
    "        sample2.append(i)\n",
    "print(sample2)"
   ]
  },
  {
   "cell_type": "code",
   "execution_count": 23,
   "id": "1cb6de75",
   "metadata": {},
   "outputs": [
    {
     "name": "stdout",
     "output_type": "stream",
     "text": [
      "[1, 5]\n"
     ]
    }
   ],
   "source": [
    "sample3 = (1,2,3,4,5,6,7,8,9)\n",
    "sample4 = []\n",
    "# [1,5,10,15]의 요소랑 맞는게 있다면 따로 뽑아서 sample4에 저장해보자\n",
    "for i in sample3:\n",
    "    if i in [1,5,10,15]:\n",
    "        sample4.append(i)\n",
    "print(sample4)"
   ]
  },
  {
   "cell_type": "code",
   "execution_count": 35,
   "id": "07cd579a",
   "metadata": {},
   "outputs": [
    {
     "name": "stdout",
     "output_type": "stream",
     "text": [
      "*\n",
      "**\n",
      "***\n",
      "****\n",
      "*****\n"
     ]
    }
   ],
   "source": [
    "for i in range(1,6):\n",
    "    print('*'*i)"
   ]
  },
  {
   "cell_type": "code",
   "execution_count": 33,
   "id": "bffd848d",
   "metadata": {},
   "outputs": [
    {
     "name": "stdout",
     "output_type": "stream",
     "text": [
      "range(0, 5)\n"
     ]
    }
   ],
   "source": [
    "a = range(5)\n",
    "print(a)"
   ]
  },
  {
   "cell_type": "markdown",
   "id": "d10c90f5",
   "metadata": {},
   "source": [
    "2. While 반복문"
   ]
  },
  {
   "cell_type": "code",
   "execution_count": 38,
   "id": "5fb7b14f",
   "metadata": {},
   "outputs": [
    {
     "name": "stdout",
     "output_type": "stream",
     "text": [
      "안녕하세요\n",
      "안녕하세요\n",
      "안녕하세요\n",
      "안녕하세요\n",
      "안녕하세요\n"
     ]
    }
   ],
   "source": [
    "count = 0\n",
    "while count < 5:\n",
    "    print('안녕하세요')\n",
    "    count = count + 1"
   ]
  }
 ],
 "metadata": {
  "kernelspec": {
   "display_name": "Python 3",
   "language": "python",
   "name": "python3"
  },
  "language_info": {
   "codemirror_mode": {
    "name": "ipython",
    "version": 3
   },
   "file_extension": ".py",
   "mimetype": "text/x-python",
   "name": "python",
   "nbconvert_exporter": "python",
   "pygments_lexer": "ipython3",
   "version": "3.11.9"
  }
 },
 "nbformat": 4,
 "nbformat_minor": 5
}
