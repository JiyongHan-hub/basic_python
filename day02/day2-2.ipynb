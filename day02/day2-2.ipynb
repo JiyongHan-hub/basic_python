{
 "cells": [
  {
   "cell_type": "markdown",
   "id": "678d137b",
   "metadata": {},
   "source": [
    "반복문\n",
    "\n",
    "어떤 코드 블록을 여러 번 반복 실행하는 문법\n",
    "\n",
    "1. for 반복문 (정해진 횟수)\n",
    "정해진 횟수만큼 반복할 때 사용\n",
    "리스트, 문자열, 튜플, 딕셔너리 범위(range)등 반복 가능한 객체를 순회\n",
    "\n",
    "2. while 반복문 (정해진 횟수가 없다)\n",
    "조건이 참(True)인 동안 계속 반복\n",
    "조건을 만족하지 않으면 종료\n",
    "\n"
   ]
  },
  {
   "cell_type": "code",
   "execution_count": 5,
   "id": "b5fb18d7",
   "metadata": {},
   "outputs": [
    {
     "name": "stdout",
     "output_type": "stream",
     "text": [
      "0\n",
      "1\n",
      "2\n",
      "3\n",
      "4\n"
     ]
    }
   ],
   "source": [
    "for i in range (5):\n",
    "    print(i)"
   ]
  },
  {
   "cell_type": "code",
   "execution_count": 7,
   "id": "659103de",
   "metadata": {},
   "outputs": [
    {
     "name": "stdout",
     "output_type": "stream",
     "text": [
      "1\n",
      "5\n",
      "7\n",
      "9\n",
      "10\n",
      "11\n",
      "12\n",
      "13\n",
      "14\n"
     ]
    }
   ],
   "source": [
    "sample1 = [1,5,7,9,10,11,12,13,14]\n",
    "for i in sample1:\n",
    "    print(i)"
   ]
  },
  {
   "cell_type": "code",
   "execution_count": 15,
   "id": "e334e68f",
   "metadata": {},
   "outputs": [
    {
     "name": "stdout",
     "output_type": "stream",
     "text": [
      "[10, 12, 14]\n"
     ]
    }
   ],
   "source": [
    "#이 중에서 짝수만 뽑아서 sample2에 넣으려면?\n",
    "sample1 = [1,5,7,9,10,11,12,13,14]\n",
    "sample2 = []\n",
    "for i in sample1:\n",
    "    if i % 2 == 0:\n",
    "        sample2.append(i)\n",
    "print(sample2)"
   ]
  },
  {
   "cell_type": "code",
   "execution_count": 23,
   "id": "1cb6de75",
   "metadata": {},
   "outputs": [
    {
     "name": "stdout",
     "output_type": "stream",
     "text": [
      "[1, 5]\n"
     ]
    }
   ],
   "source": [
    "sample3 = (1,2,3,4,5,6,7,8,9)\n",
    "sample4 = []\n",
    "# [1,5,10,15]의 요소랑 맞는게 있다면 따로 뽑아서 sample4에 저장해보자\n",
    "for i in sample3:\n",
    "    if i in [1,5,10,15]:\n",
    "        sample4.append(i)\n",
    "print(sample4)"
   ]
  },
  {
   "cell_type": "code",
   "execution_count": 35,
   "id": "07cd579a",
   "metadata": {},
   "outputs": [
    {
     "name": "stdout",
     "output_type": "stream",
     "text": [
      "*\n",
      "**\n",
      "***\n",
      "****\n",
      "*****\n"
     ]
    }
   ],
   "source": [
    "for i in range(1,6):\n",
    "    print('*'*i)"
   ]
  },
  {
   "cell_type": "code",
   "execution_count": 33,
   "id": "bffd848d",
   "metadata": {},
   "outputs": [
    {
     "name": "stdout",
     "output_type": "stream",
     "text": [
      "range(0, 5)\n"
     ]
    }
   ],
   "source": [
    "a = range(5)\n",
    "print(a)"
   ]
  },
  {
   "cell_type": "markdown",
   "id": "d10c90f5",
   "metadata": {},
   "source": [
    "2. While 반복문"
   ]
  },
  {
   "cell_type": "code",
   "execution_count": 38,
   "id": "5fb7b14f",
   "metadata": {},
   "outputs": [
    {
     "name": "stdout",
     "output_type": "stream",
     "text": [
      "안녕하세요\n",
      "안녕하세요\n",
      "안녕하세요\n",
      "안녕하세요\n",
      "안녕하세요\n"
     ]
    }
   ],
   "source": [
    "count = 0\n",
    "while count < 5:\n",
    "    print('안녕하세요')\n",
    "    count = count + 1"
   ]
  },
  {
   "cell_type": "code",
   "execution_count": 41,
   "id": "5d976446",
   "metadata": {},
   "outputs": [
    {
     "name": "stdout",
     "output_type": "stream",
     "text": [
      "i:0 j:0 안녕하세요\n",
      "i:0 j:1 안녕하세요\n",
      "i:0 j:2 안녕하세요\n",
      "i:1 j:0 안녕하세요\n",
      "i:1 j:1 안녕하세요\n",
      "i:1 j:2 안녕하세요\n"
     ]
    }
   ],
   "source": [
    "for i in range(2):\n",
    "    for j in range(3):\n",
    "        print(f'i:{i} j:{j} 안녕하세요')"
   ]
  },
  {
   "cell_type": "code",
   "execution_count": 49,
   "id": "d2f9c44f",
   "metadata": {},
   "outputs": [
    {
     "name": "stdout",
     "output_type": "stream",
     "text": [
      "1 X 1 = 1\n",
      "1 X 2 = 2\n",
      "1 X 3 = 3\n",
      "1 X 4 = 4\n",
      "1 X 5 = 5\n",
      "1 X 6 = 6\n",
      "1 X 7 = 7\n",
      "1 X 8 = 8\n",
      "1 X 9 = 9\n",
      "------------------------\n",
      "2 X 1 = 2\n",
      "2 X 2 = 4\n",
      "2 X 3 = 6\n",
      "2 X 4 = 8\n",
      "2 X 5 = 10\n",
      "2 X 6 = 12\n",
      "2 X 7 = 14\n",
      "2 X 8 = 16\n",
      "2 X 9 = 18\n",
      "------------------------\n",
      "3 X 1 = 3\n",
      "3 X 2 = 6\n",
      "3 X 3 = 9\n",
      "3 X 4 = 12\n",
      "3 X 5 = 15\n",
      "3 X 6 = 18\n",
      "3 X 7 = 21\n",
      "3 X 8 = 24\n",
      "3 X 9 = 27\n",
      "------------------------\n",
      "4 X 1 = 4\n",
      "4 X 2 = 8\n",
      "4 X 3 = 12\n",
      "4 X 4 = 16\n",
      "4 X 5 = 20\n",
      "4 X 6 = 24\n",
      "4 X 7 = 28\n",
      "4 X 8 = 32\n",
      "4 X 9 = 36\n",
      "------------------------\n",
      "5 X 1 = 5\n",
      "5 X 2 = 10\n",
      "5 X 3 = 15\n",
      "5 X 4 = 20\n",
      "5 X 5 = 25\n",
      "5 X 6 = 30\n",
      "5 X 7 = 35\n",
      "5 X 8 = 40\n",
      "5 X 9 = 45\n",
      "------------------------\n",
      "6 X 1 = 6\n",
      "6 X 2 = 12\n",
      "6 X 3 = 18\n",
      "6 X 4 = 24\n",
      "6 X 5 = 30\n",
      "6 X 6 = 36\n",
      "6 X 7 = 42\n",
      "6 X 8 = 48\n",
      "6 X 9 = 54\n",
      "------------------------\n",
      "7 X 1 = 7\n",
      "7 X 2 = 14\n",
      "7 X 3 = 21\n",
      "7 X 4 = 28\n",
      "7 X 5 = 35\n",
      "7 X 6 = 42\n",
      "7 X 7 = 49\n",
      "7 X 8 = 56\n",
      "7 X 9 = 63\n",
      "------------------------\n",
      "8 X 1 = 8\n",
      "8 X 2 = 16\n",
      "8 X 3 = 24\n",
      "8 X 4 = 32\n",
      "8 X 5 = 40\n",
      "8 X 6 = 48\n",
      "8 X 7 = 56\n",
      "8 X 8 = 64\n",
      "8 X 9 = 72\n",
      "------------------------\n",
      "9 X 1 = 9\n",
      "9 X 2 = 18\n",
      "9 X 3 = 27\n",
      "9 X 4 = 36\n",
      "9 X 5 = 45\n",
      "9 X 6 = 54\n",
      "9 X 7 = 63\n",
      "9 X 8 = 72\n",
      "9 X 9 = 81\n",
      "------------------------\n"
     ]
    }
   ],
   "source": [
    "for i in range(1,10):\n",
    "    for j in range(1,10):\n",
    "        print(f'{i} X {j} = {i*j}')\n",
    "    print('------------------------')"
   ]
  },
  {
   "cell_type": "code",
   "execution_count": 53,
   "id": "792bd32a",
   "metadata": {},
   "outputs": [
    {
     "data": {
      "text/plain": [
       "[30, 82, 92, 27, 53, 73, 98, 26, 54, 77]"
      ]
     },
     "execution_count": 53,
     "metadata": {},
     "output_type": "execute_result"
    }
   ],
   "source": [
    "import random\n",
    "random.sample(range(100), 10) #range(100)의 범위중에서, 중복되지 않은 랜덤한 데이터 10개를 추출하는 명령문"
   ]
  },
  {
   "cell_type": "code",
   "execution_count": 103,
   "id": "67c75bf5",
   "metadata": {},
   "outputs": [
    {
     "name": "stdout",
     "output_type": "stream",
     "text": [
      "[273, 168, 725, 998, 470, 838, 387, 379, 277, 999, 505, 491, 524, 993, 904, 280, 366, 238, 666, 684]\n",
      "[168, 998, 470, 838, 524, 904, 280, 366, 238, 666, 684]\n"
     ]
    }
   ],
   "source": [
    "# 랜덤한 샘플데이터\n",
    "samples = random.sample(range(1000), 20)\n",
    "print(samples)\n",
    "# 이중에서 짝수만 찾아서 변수에 저장 --> 리스트\n",
    "even_lists = []\n",
    "for i in samples:\n",
    "    if i % 2 == 0:\n",
    "        even_lists.append(i)\n",
    "print(even_lists)"
   ]
  }
 ],
 "metadata": {
  "kernelspec": {
   "display_name": "Python 3",
   "language": "python",
   "name": "python3"
  },
  "language_info": {
   "codemirror_mode": {
    "name": "ipython",
    "version": 3
   },
   "file_extension": ".py",
   "mimetype": "text/x-python",
   "name": "python",
   "nbconvert_exporter": "python",
   "pygments_lexer": "ipython3",
   "version": "3.11.9"
  }
 },
 "nbformat": 4,
 "nbformat_minor": 5
}
